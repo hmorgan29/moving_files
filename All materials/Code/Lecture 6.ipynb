{
 "cells": [
  {
   "cell_type": "markdown",
   "metadata": {},
   "source": [
    "# Measuring similarity between strings: Jaquard distance\n",
    "\n",
    "Suppose you have several documents and you want to determine how similar they are. One simple, but effective way is to break them into fragments of a given size (usually around 8) and see how many are the same. This works better then simpler methods like counting the number of matches (Hamming distance) as it works under insertion and deletion, and is easier to work with than edit distance (minimum number of insertions, deletions, changes of a character) which is harder to compute.\n",
    "\n",
    "We start by computing all fragments of a string and store them in a set:"
   ]
  },
  {
   "cell_type": "code",
   "execution_count": 1,
   "metadata": {},
   "outputs": [],
   "source": [
    "def fragments(string,fragSize):\n",
    "    F=set()\n",
    "    for i in range(len(string)-fragSize):\n",
    "        F.add(string[i:i+fragSize])\n",
    "    return F\n",
    "\n",
    "print(fragments(\"Suppose you have several documents and you want to detemine how similar they are.\",5))"
   ]
  },
  {
   "cell_type": "markdown",
   "metadata": {},
   "source": [
    "Then we can compute the jaquard distance between two strings, which is simply the percentage of their total fragments that they have in common:"
   ]
  },
  {
   "cell_type": "code",
   "execution_count": 2,
   "metadata": {},
   "outputs": [],
   "source": [
    "def jaquard(fragments1,fragments2):\n",
    "    return len(fragments1 & fragments2)/len(fragments1 | fragments2)"
   ]
  },
  {
   "cell_type": "code",
   "execution_count": 3,
   "metadata": {},
   "outputs": [],
   "source": [
    "S1=\"Suppose you have several documents and you want to detemine how similar they are.\"\n",
    "S2=\"There are several similar documents that you want to know their similarity.\"\n",
    "S3=\"Thus you can get a value, accurate to within 1% additive error\"\n",
    "F1,F2,F3= (fragments(S,5) for S in (S1,S2,S3))"
   ]
  },
  {
   "cell_type": "code",
   "execution_count": 4,
   "metadata": {},
   "outputs": [
    {
     "name": "stdout",
     "output_type": "stream",
     "text": [
      "0.23684210526315788\n",
      "0.007633587786259542\n",
      "0.00819672131147541\n"
     ]
    }
   ],
   "source": [
    "print(jaquard(F1,F2))\n",
    "print(jaquard(F1,F3))\n",
    "print(jaquard(F2,F3))"
   ]
  },
  {
   "cell_type": "markdown",
   "metadata": {},
   "source": [
    "We will want to have the fragments of many strings, so here is a function that creates a dictionary that maps strings to their set of fragments."
   ]
  },
  {
   "cell_type": "code",
   "execution_count": 5,
   "metadata": {},
   "outputs": [
    {
     "data": {
      "text/plain": [
       "{'Suppose you have several documents and you want to detemine how similar they are.': {' and ',\n",
       "  ' dete',\n",
       "  ' docu',\n",
       "  ' have',\n",
       "  ' how ',\n",
       "  ' seve',\n",
       "  ' simi',\n",
       "  ' they',\n",
       "  ' to d',\n",
       "  ' want',\n",
       "  ' you ',\n",
       "  'Suppo',\n",
       "  'al do',\n",
       "  'and y',\n",
       "  'ant t',\n",
       "  'ar th',\n",
       "  'ave s',\n",
       "  'cumen',\n",
       "  'd you',\n",
       "  'detem',\n",
       "  'docum',\n",
       "  'e how',\n",
       "  'e sev',\n",
       "  'e you',\n",
       "  'emine',\n",
       "  'ents ',\n",
       "  'eral ',\n",
       "  'etemi',\n",
       "  'evera',\n",
       "  'ey ar',\n",
       "  'have ',\n",
       "  'hey a',\n",
       "  'how s',\n",
       "  'ilar ',\n",
       "  'imila',\n",
       "  'ine h',\n",
       "  'l doc',\n",
       "  'lar t',\n",
       "  'ments',\n",
       "  'milar',\n",
       "  'mine ',\n",
       "  'nd yo',\n",
       "  'ne ho',\n",
       "  'nt to',\n",
       "  'nts a',\n",
       "  'o det',\n",
       "  'ocume',\n",
       "  'ose y',\n",
       "  'ou ha',\n",
       "  'ou wa',\n",
       "  'ow si',\n",
       "  'pose ',\n",
       "  'ppose',\n",
       "  'r the',\n",
       "  'ral d',\n",
       "  's and',\n",
       "  'se yo',\n",
       "  'sever',\n",
       "  'simil',\n",
       "  't to ',\n",
       "  'temin',\n",
       "  'they ',\n",
       "  'to de',\n",
       "  'ts an',\n",
       "  'u hav',\n",
       "  'u wan',\n",
       "  'ument',\n",
       "  'uppos',\n",
       "  've se',\n",
       "  'veral',\n",
       "  'w sim',\n",
       "  'want ',\n",
       "  'y are',\n",
       "  'you h',\n",
       "  'you w'},\n",
       " 'There are several similar documents that you want to know their similarity.': {' are ',\n",
       "  ' docu',\n",
       "  ' know',\n",
       "  ' seve',\n",
       "  ' simi',\n",
       "  ' that',\n",
       "  ' thei',\n",
       "  ' to k',\n",
       "  ' want',\n",
       "  ' you ',\n",
       "  'There',\n",
       "  'al si',\n",
       "  'ant t',\n",
       "  'ar do',\n",
       "  'are s',\n",
       "  'arity',\n",
       "  'at yo',\n",
       "  'cumen',\n",
       "  'docum',\n",
       "  'e are',\n",
       "  'e sev',\n",
       "  'eir s',\n",
       "  'ents ',\n",
       "  'eral ',\n",
       "  'ere a',\n",
       "  'evera',\n",
       "  'hat y',\n",
       "  'heir ',\n",
       "  'here ',\n",
       "  'ilar ',\n",
       "  'ilari',\n",
       "  'imila',\n",
       "  'ir si',\n",
       "  'know ',\n",
       "  'l sim',\n",
       "  'lar d',\n",
       "  'larit',\n",
       "  'ments',\n",
       "  'milar',\n",
       "  'now t',\n",
       "  'nt to',\n",
       "  'nts t',\n",
       "  'o kno',\n",
       "  'ocume',\n",
       "  'ou wa',\n",
       "  'ow th',\n",
       "  'r doc',\n",
       "  'r sim',\n",
       "  'ral s',\n",
       "  're ar',\n",
       "  're se',\n",
       "  's tha',\n",
       "  'sever',\n",
       "  'simil',\n",
       "  't to ',\n",
       "  't you',\n",
       "  'that ',\n",
       "  'their',\n",
       "  'to kn',\n",
       "  'ts th',\n",
       "  'u wan',\n",
       "  'ument',\n",
       "  'veral',\n",
       "  'w the',\n",
       "  'want ',\n",
       "  'you w'},\n",
       " 'Thus you can get a value, accurate to within 1% additive error': {' 1% a',\n",
       "  ' a va',\n",
       "  ' accu',\n",
       "  ' addi',\n",
       "  ' can ',\n",
       "  ' erro',\n",
       "  ' get ',\n",
       "  ' to w',\n",
       "  ' valu',\n",
       "  ' with',\n",
       "  ' you ',\n",
       "  '% add',\n",
       "  ', acc',\n",
       "  '1% ad',\n",
       "  'Thus ',\n",
       "  'a val',\n",
       "  'accur',\n",
       "  'addit',\n",
       "  'alue,',\n",
       "  'an ge',\n",
       "  'ate t',\n",
       "  'can g',\n",
       "  'ccura',\n",
       "  'curat',\n",
       "  'dditi',\n",
       "  'ditiv',\n",
       "  'e err',\n",
       "  'e to ',\n",
       "  'e, ac',\n",
       "  'et a ',\n",
       "  'get a',\n",
       "  'hin 1',\n",
       "  'hus y',\n",
       "  'in 1%',\n",
       "  'ithin',\n",
       "  'itive',\n",
       "  'ive e',\n",
       "  'lue, ',\n",
       "  'n 1% ',\n",
       "  'n get',\n",
       "  'o wit',\n",
       "  'ou ca',\n",
       "  'rate ',\n",
       "  's you',\n",
       "  't a v',\n",
       "  'te to',\n",
       "  'thin ',\n",
       "  'tive ',\n",
       "  'to wi',\n",
       "  'u can',\n",
       "  'ue, a',\n",
       "  'urate',\n",
       "  'us yo',\n",
       "  'value',\n",
       "  've er',\n",
       "  'withi',\n",
       "  'you c'}}"
      ]
     },
     "execution_count": 5,
     "metadata": {},
     "output_type": "execute_result"
    }
   ],
   "source": [
    "import itertools\n",
    "\n",
    "# This returns a dictionary that maps strings to their set of fragments\n",
    "def fragmentDict(strings,fragSize):\n",
    "    Fragments={}\n",
    "    for s in strings: \n",
    "        Fragments[s]=fragments(s,fragSize)\n",
    "    return Fragments\n",
    "\n",
    "fragmentDict([S1,S2,S3],5)"
   ]
  },
  {
   "cell_type": "markdown",
   "metadata": {},
   "source": [
    "If you have several strings and want to find all pairs that are similar you can do this with a double loop. Alas, while this is simple, it is computationally expensive. Given $n$ strings of length $d$, this is going to cost $O(n^2d)$. You could vary the question and say you have $n$ reference documents, and then you have $m$ query documents, and you want for each query document to find the closest reference document, or perhaps all reference documents with similarity below a certain threshold. This would cost $O(nmd)$, which is not feasible for large data sets.\n",
    "\n",
    "Here is some (slow) code that will return all pairs of strings with distance above some threshold. It returns the pair of the first two strings, which are similar."
   ]
  },
  {
   "cell_type": "code",
   "execution_count": 6,
   "metadata": {},
   "outputs": [
    {
     "name": "stdout",
     "output_type": "stream",
     "text": [
      "[(0.23684210526315788, 'Suppose you have several documents and you want to detemine how similar they are.', 'There are several similar documents that you want to know their similarity.')]\n"
     ]
    }
   ],
   "source": [
    "def findSimilarStringPairs(Fragments,threshold):\n",
    "    similarPairs=[]\n",
    "    for s1,s2 in itertools.combinations(Fragments.keys(),2):\n",
    "            j=jaquard(Fragments[s1],Fragments[s2])\n",
    "            if j>=threshold:\n",
    "                similarPairs.append((j,s1,s2))\n",
    "    return similarPairs  \n",
    "            \n",
    "print(findSimilarStringPairs(fragmentDict([S1,S2,S3],5),0.1))\n",
    "                "
   ]
  },
  {
   "cell_type": "markdown",
   "metadata": {},
   "source": [
    "# minHash\n",
    "\n",
    "We will now show a clever method to replace a document with a single number, so that the expected value of two documents having the same number is exactly their Jaquard distance. We call this number the *score* of the document.\n",
    "\n",
    "Given several documents, take all fragments they generate (duplicates appear only once) and randomly permute them. Then the score of a document is the index of its first fragment of that appears in the permutation\n",
    "\n",
    "The score does not make sense for a single string in isolation (why?). Here is code that given a list of strings, returns a dictionary that makes the strings to their scores."
   ]
  },
  {
   "cell_type": "code",
   "execution_count": 7,
   "metadata": {},
   "outputs": [],
   "source": [
    "import random\n",
    "\n",
    "# Returns a dictionary that maps strings to a single minHash score\n",
    "def scoreDict(fragmentDict):\n",
    "    Scores={}\n",
    "    allFragments=list(set().union(*fragmentDict.values()))\n",
    "    random.shuffle(allFragments)\n",
    "    for s,fragment in fragmentDict.items():\n",
    "        for i in range(len(allFragments)):\n",
    "            if allFragments[i] in fragment:\n",
    "                Scores[s]=i\n",
    "                break\n",
    "    return(Scores)"
   ]
  },
  {
   "cell_type": "code",
   "execution_count": 8,
   "metadata": {},
   "outputs": [
    {
     "name": "stdout",
     "output_type": "stream",
     "text": [
      "0 Suppose you have several documents and you want to detemine how similar they are.\n",
      "1 There are several similar documents that you want to know their similarity.\n",
      "2 Thus you can get a value, accurate to within 1% additive error\n"
     ]
    }
   ],
   "source": [
    "# TRY RUNNING THIS A FEW TIMES AND WATCH THE SCORES CHANGE\n",
    "ManyScores=scoreDict(fragmentDict([S1,S2,S3],5))\n",
    "for string,score in ManyScores.items():\n",
    "    print(score,string)"
   ]
  },
  {
   "cell_type": "markdown",
   "metadata": {},
   "source": [
    "Let $j(x,y)$ be the Jaquard distance and let $s(x,y)$ be 1 if $x$ and $y$ have the same score and 0 otherwise.\n",
    "\n",
    "What is nice is that $E[s(x,y)]=j(x,y)$.\n",
    "\n",
    "Here is the proof. There are three types of fragments:\n",
    "\n",
    "- Case 1: Those that are present in $x$ and $y$\n",
    "- Case 2: Those that are absent in $x$ and $y$\n",
    "- Case 3: Those that are in either $x$ or $y$ but not both.\n",
    "\n",
    "Let $t_1,t_2,t_3$ be the nubmers of these types of fragments. What is $j(x,y)$. It is $\\frac{t_1}{t_1+t_3}$.\n",
    "Now, to determine if the score of two strings is the same, you can view this as a process where we pick frandom fragments until we find one that is either case 1 or 3. The two strings are then given the same score if we are in case 1, else they have different scores. This happens with chance $\\frac{t_1}{t_1+t_3}$.\n",
    "\n",
    "\n",
    "But remember that the score is always either 0 or 1. Thus, while it has the right expected value, on it own it has little use. As we have done before, the solution is to compute the score several times and take the average. Let's compute $k$ scores $s_1(x,y), \\ldots s_k(x,y)$ and define $\\hat{f}(x,y)=\\frac{1}{k}\\sum_{i=1}^k s_i$. \n",
    "\n",
    "As each $s_i$ is independent, we can once again use Chernoff bounds, which can show that $\\hat{f}(x,y)$ is within an $\\epsilon$ of $\\hat{f}(x,y)$ with probability $1-\\delta$ providing $k\\geq \\frac{1}{2\\epsilon^2} \\ln \\frac{2}{\\delta}$. (See [here](https://www.cs.utah.edu/~jeffp/teaching/cs5140-S17/cs5140/L4-Minhash.pdf) for a nice set of notes on this topic).\n",
    "\n",
    "Now, since we need multiple scores and not a single one, is a function which given a list of strings returns a dictionary which will map the strings to a list of scores."
   ]
  },
  {
   "cell_type": "code",
   "execution_count": 9,
   "metadata": {},
   "outputs": [
    {
     "name": "stdout",
     "output_type": "stream",
     "text": [
      "[3, 0, 0, 0, 1, 0, 0, 2, 1, 3] Suppose you have several documents and you want to detemine how similar they are.\n",
      "[2, 1, 5, 1, 0, 0, 1, 0, 0, 0] There are several similar documents that you want to know their similarity.\n",
      "[0, 4, 1, 2, 4, 6, 2, 1, 11, 2] Thus you can get a value, accurate to within 1% additive error\n"
     ]
    }
   ],
   "source": [
    "# Returns a dictionary that maps strings to a list of scoreCount minHash scores from different permutations\n",
    "# AGAIN: TRY RUNNING THIS A FEW TIMES AND WATCH THE SCORES CHANGE\n",
    "def multipleScoreDict(fragmentDict,scoreCount):\n",
    "    ManyScores=[scoreDict(fragmentDict) for i in range(scoreCount)]\n",
    "    toReturn={}\n",
    "    for string in fragmentDict.keys():\n",
    "        toReturn[string]=[ManyScores[i][string] for i in range(scoreCount)]\n",
    "    return toReturn\n",
    "\n",
    "ms=multipleScoreDict(fragmentDict([S1,S2,S3],5),10)\n",
    "for string,scores in ms.items():\n",
    "    print(scores,string)\n",
    "                          "
   ]
  },
  {
   "cell_type": "code",
   "execution_count": 10,
   "metadata": {},
   "outputs": [
    {
     "name": "stdout",
     "output_type": "stream",
     "text": [
      "( Suppose yo ...) ( There are  ...) approx: 0.1  real:  0.23684210526315788\n",
      "( Suppose yo ...) ( Thus you c ...) approx: 0.0  real:  0.007633587786259542\n",
      "( There are  ...) ( Thus you c ...) approx: 0.0  real:  0.00819672131147541\n"
     ]
    }
   ],
   "source": [
    "fragmentSize=5\n",
    "signatureLength=100\n",
    "\n",
    "# Given multipleScores, computes the pairwise Jaquard approx, the real one, and prints\n",
    "def approxJaquard(multipleScores):\n",
    "    for i,j in itertools.combinations(multipleScores.items(),2):\n",
    "        jaquardapprox=sum(i[1][k]==j[1][k] for k in range(len(i[1])))/len(i[1])\n",
    "        jaquardreal=jaquard(fragments(i[0],fragmentSize),fragments(j[0],fragmentSize))\n",
    "        print(\"(\",i[0][:10],\"...) (\",j[0][:10],\"...) approx:\",jaquardapprox,\" real: \",jaquardreal)\n",
    "\n",
    "ms=multipleScoreDict(fragmentDict([S1,S2,S3],5),10)\n",
    "approxJaquard(ms)\n",
    "        "
   ]
  },
  {
   "cell_type": "markdown",
   "metadata": {},
   "source": [
    "**Summary**: Using minHash, we can replace comparing strings or all their fragments, which could vary in length and be quite large, with a uniform length list of numbers. For example, to compute the Jaquard distance to within 10%, 99% of the time would require approximately 1000 numbers, which could be a significant savings for large documents.\n",
    "\n",
    "However, searching remains a problem, as to compute one document's similarity with $n$ others so far we have been limited to looping over all the others. By using minHash we have improved the speed of the inside of the loop (for long documents), but have done nothing about the loop itself. Removing this loop is the topic of the next section."
   ]
  },
  {
   "cell_type": "markdown",
   "metadata": {},
   "source": [
    "# Locality sensitive hashing"
   ]
  },
  {
   "cell_type": "markdown",
   "metadata": {},
   "source": [
    "Suppose you have a set of hash functions $H$, some data, and some distance measure $d$ over your data. We say that $H$ is a $(r,c,p_1,p_2)$ LSH family if:\n",
    "\n",
    "- If $d(x,y) \\leq r$ then $h(x)=h(y)$ with probability at least $p_1$\n",
    "- If $d(x,y) \\geq cr$ then $h(x)=h(y)$ with probability at most $p_2$\n",
    "\n",
    "with $p_1>p_2$. Usually, $r$ and $c$ are chosen and $p_1$ and $p_2$ are computed as a function of $r$ and $c$."
   ]
  },
  {
   "cell_type": "markdown",
   "metadata": {},
   "source": [
    "**Example:** Hamming distance in strings of length $n$. The Hamming distance of two strings of equal length is the number of positions where they differ."
   ]
  },
  {
   "cell_type": "code",
   "execution_count": 11,
   "metadata": {},
   "outputs": [
    {
     "name": "stdout",
     "output_type": "stream",
     "text": [
      "3\n"
     ]
    }
   ],
   "source": [
    "def hamming(S1,S2):\n",
    "    return sum(c1!=c2 for c1,c2 in zip(S1,S2))\n",
    "\n",
    "S1=\"aaabbbccc\"\n",
    "S2=\"aacbbaccb\"\n",
    "print(hamming(S1,S2))"
   ]
  },
  {
   "cell_type": "markdown",
   "metadata": {},
   "source": [
    "Our LSH hash function family for stings of length $n$ is to pick a random integer $i$ in $[0..n-1]$ and let $h(x)=x[i]$.\n",
    "\n",
    "Given two strings $x$ and $y$, what is the chance $h(x)=h(y)$? It is $\\frac{d(x,y)}{n}$ where $d$ is the Hamming distance. With LSH you need to first decide your goal, suppose you want to be able to classify documents that have Hamming distance at least $0.2n$ as similar, less than $0.1n$ as not similar, and documents that are between $0.1n$ and $0.2n$ could be classified either way. Then we set $r=0.1$ and $cr=0.2$ (thus $c=2$).  \n",
    "\n",
    "- If $d(x,y) \\leq 0.1n$ then $h(x)=h(y)$ with probability at least $0.9$\n",
    "- If $d(x,y) \\geq 0.2n$ then $h(x)=h(y)$ with probability at most $0.8$\n",
    "\n",
    "Thus our hash function is a valid LSH hash function."
   ]
  },
  {
   "cell_type": "markdown",
   "metadata": {},
   "source": [
    "Ideally $p_1=1$ and $p_2=0$. Let's call the *error* rate $\\delta=\\max(1-p_1,p_2)$, where $1-p_1$ is the *false negative* rate, and $p_1$ is the *false positive* rate. Ideally the error rate would be zero, but this is not possible. However there are techniques to manipulate $p_1$ and $p_2$ to lower the error rate."
   ]
  },
  {
   "cell_type": "markdown",
   "metadata": {},
   "source": [
    "The first technique is called an AND construction. This is simply the technique we have used several times: Pick $k$ different random hash functions from the LSH family, and now we replace testing if $h(x)=h(y)$ with doing this rest on all $k$ hash functions and reporting equality only if all of them are equal. This has the general affect of lowering the false positive rate, as $p_1$ and $p_2$ decrease.\n",
    "\n",
    "Each hash chosen in the AND construction is independent, so this has the effect that $(r,c,p_1,p_2)$ becomes $(r,c,p_1^k,p_2^k)$\n",
    "\n",
    "Here we can compute the effect on the $p_1$ and $p_2$. Note that while they go down they also get farther apart, and thus the error decreases some before increasing again; still, we would like errors that are much better than 50%."
   ]
  },
  {
   "cell_type": "code",
   "execution_count": 55,
   "metadata": {
    "scrolled": true
   },
   "outputs": [
    {
     "name": "stdout",
     "output_type": "stream",
     "text": [
      "k: 1 p1:0.80 p2:0.90 error:0.80\n",
      "k: 2 p1:0.64 p2:0.81 error:0.64\n",
      "k: 3 p1:0.51 p2:0.73 error:0.51\n",
      "k: 4 p1:0.41 p2:0.66 error:0.41\n",
      "k: 5 p1:0.33 p2:0.59 error:0.41\n",
      "k: 6 p1:0.26 p2:0.53 error:0.47\n",
      "k: 7 p1:0.21 p2:0.48 error:0.52\n",
      "k: 8 p1:0.17 p2:0.43 error:0.57\n",
      "k: 9 p1:0.13 p2:0.39 error:0.61\n",
      "k:10 p1:0.11 p2:0.35 error:0.65\n",
      "k:11 p1:0.09 p2:0.31 error:0.69\n",
      "k:12 p1:0.07 p2:0.28 error:0.72\n",
      "k:13 p1:0.05 p2:0.25 error:0.75\n",
      "k:14 p1:0.04 p2:0.23 error:0.77\n",
      "k:15 p1:0.04 p2:0.21 error:0.79\n",
      "k:16 p1:0.03 p2:0.19 error:0.81\n",
      "k:17 p1:0.02 p2:0.17 error:0.83\n",
      "k:18 p1:0.02 p2:0.15 error:0.85\n",
      "k:19 p1:0.01 p2:0.14 error:0.86\n"
     ]
    }
   ],
   "source": [
    "def computeAndProbabilities(p1,p2,k):\n",
    "    return (p1**k,p2**k)\n",
    "def error(p1,p2):\n",
    "    return max(p1,1-p2)\n",
    "\n",
    "#Here we show the effect of an AND construction\n",
    "for k in range(1,20):\n",
    "    p1,p2=computeAndProbabilities(0.8,0.9,k)\n",
    "    print(\"k:{:2} p1:{:.2f} p2:{:.2f} error:{:.2f}\".format(k,p1,p2,error(p1,p2)))\n"
   ]
  },
  {
   "cell_type": "markdown",
   "metadata": {},
   "source": [
    "The second technique is the OR construction. Here we repeat $\\ell$ with different LSH hashes and times and say two items are equal if at least on one of the $\\ell$ hash functions, they has to the same value.\n",
    "\n",
    "These are independent events so this has the effect that $(r,c,p_1,p_2)$ becomes $(r,c,1-(1-p_1)^\n",
    "\\ell,1-(1-p_2)^\\ell)$. This causes $p_1$ and $p_2$ to increase as well as the error, which does not seem to be so useful!"
   ]
  },
  {
   "cell_type": "code",
   "execution_count": 56,
   "metadata": {
    "scrolled": true
   },
   "outputs": [
    {
     "name": "stdout",
     "output_type": "stream",
     "text": [
      "k: 1 p1:0.80 p2:0.90 error:0.80\n",
      "k: 2 p1:0.96 p2:0.99 error:0.96\n",
      "k: 3 p1:0.99 p2:1.00 error:0.99\n",
      "k: 4 p1:1.00 p2:1.00 error:1.00\n",
      "k: 5 p1:1.00 p2:1.00 error:1.00\n",
      "k: 6 p1:1.00 p2:1.00 error:1.00\n",
      "k: 7 p1:1.00 p2:1.00 error:1.00\n",
      "k: 8 p1:1.00 p2:1.00 error:1.00\n",
      "k: 9 p1:1.00 p2:1.00 error:1.00\n",
      "k:10 p1:1.00 p2:1.00 error:1.00\n",
      "k:11 p1:1.00 p2:1.00 error:1.00\n",
      "k:12 p1:1.00 p2:1.00 error:1.00\n",
      "k:13 p1:1.00 p2:1.00 error:1.00\n",
      "k:14 p1:1.00 p2:1.00 error:1.00\n",
      "k:15 p1:1.00 p2:1.00 error:1.00\n",
      "k:16 p1:1.00 p2:1.00 error:1.00\n",
      "k:17 p1:1.00 p2:1.00 error:1.00\n",
      "k:18 p1:1.00 p2:1.00 error:1.00\n",
      "k:19 p1:1.00 p2:1.00 error:1.00\n"
     ]
    }
   ],
   "source": [
    "def computeOrProbabilities(p1,p2,l):\n",
    "    return (1-(1-p1)**l,1-(1-p2)**l)\n",
    "\n",
    "for k in range(1,20):\n",
    "    p1,p2=computeOrProbabilities(0.8,0.9,k)\n",
    "    print(\"k:{:2} p1:{:.2f} p2:{:.2f} error:{:.2f}\".format(k,p1,p2,error(p1,p2)))"
   ]
  },
  {
   "cell_type": "markdown",
   "metadata": {},
   "source": [
    "The AND and OR can be combined. We OR $\\ell$ groups, each group is the ANDing of $k$ random LSH hashes. This has the effect that $(r,c,p_1,p_2)$ becomes $(r,c,1-(1-p_1^k)^\\ell,1-(1-p_2^k)^\\ell)$\n",
    "\n",
    "Here we look at $p_1=0.9$ and $p_2=0.8$, $\\ell=100$ and varying $k$. Again, recall the goal is high $p_1$ and low $p_2$."
   ]
  },
  {
   "cell_type": "code",
   "execution_count": 57,
   "metadata": {},
   "outputs": [
    {
     "name": "stdout",
     "output_type": "stream",
     "text": [
      "k: 1 l:1000 p1:1.00 p2:1.00 error:1.00\n",
      "k: 2 l:1000 p1:1.00 p2:1.00 error:1.00\n",
      "k: 3 l:1000 p1:1.00 p2:1.00 error:1.00\n",
      "k: 4 l:1000 p1:1.00 p2:1.00 error:1.00\n",
      "k: 5 l:1000 p1:1.00 p2:1.00 error:1.00\n",
      "k: 6 l:1000 p1:1.00 p2:1.00 error:1.00\n",
      "k: 7 l:1000 p1:1.00 p2:1.00 error:1.00\n",
      "k: 8 l:1000 p1:1.00 p2:1.00 error:1.00\n",
      "k: 9 l:1000 p1:1.00 p2:1.00 error:1.00\n",
      "k:10 l:1000 p1:1.00 p2:1.00 error:1.00\n",
      "k:11 l:1000 p1:1.00 p2:1.00 error:1.00\n",
      "k:12 l:1000 p1:1.00 p2:1.00 error:1.00\n",
      "k:13 l:1000 p1:1.00 p2:1.00 error:1.00\n",
      "k:14 l:1000 p1:1.00 p2:1.00 error:1.00\n",
      "k:15 l:1000 p1:1.00 p2:1.00 error:1.00\n",
      "k:16 l:1000 p1:1.00 p2:1.00 error:1.00\n",
      "k:17 l:1000 p1:1.00 p2:1.00 error:1.00\n",
      "k:18 l:1000 p1:1.00 p2:1.00 error:1.00\n",
      "k:19 l:1000 p1:1.00 p2:1.00 error:1.00\n",
      "k:20 l:1000 p1:1.00 p2:1.00 error:1.00\n",
      "k:21 l:1000 p1:1.00 p2:1.00 error:1.00\n",
      "k:22 l:1000 p1:1.00 p2:1.00 error:1.00\n",
      "k:23 l:1000 p1:1.00 p2:1.00 error:1.00\n",
      "k:24 l:1000 p1:0.99 p2:1.00 error:0.99\n",
      "k:25 l:1000 p1:0.98 p2:1.00 error:0.98\n",
      "k:26 l:1000 p1:0.95 p2:1.00 error:0.95\n",
      "k:27 l:1000 p1:0.91 p2:1.00 error:0.91\n",
      "k:28 l:1000 p1:0.86 p2:1.00 error:0.86\n",
      "k:29 l:1000 p1:0.79 p2:1.00 error:0.79\n",
      "k:30 l:1000 p1:0.71 p2:1.00 error:0.71\n",
      "k:31 l:1000 p1:0.63 p2:1.00 error:0.63\n",
      "k:32 l:1000 p1:0.55 p2:1.00 error:0.55\n",
      "k:33 l:1000 p1:0.47 p2:1.00 error:0.47\n",
      "k:34 l:1000 p1:0.40 p2:1.00 error:0.40\n",
      "k:35 l:1000 p1:0.33 p2:1.00 error:0.33\n",
      "k:36 l:1000 p1:0.28 p2:1.00 error:0.28\n",
      "k:37 l:1000 p1:0.23 p2:1.00 error:0.23\n",
      "k:38 l:1000 p1:0.19 p2:1.00 error:0.19\n",
      "k:39 l:1000 p1:0.15 p2:1.00 error:0.15\n",
      "k:40 l:1000 p1:0.12 p2:1.00 error:0.12\n",
      "k:41 l:1000 p1:0.10 p2:1.00 error:0.10\n",
      "k:42 l:1000 p1:0.08 p2:1.00 error:0.08\n",
      "k:43 l:1000 p1:0.07 p2:1.00 error:0.07\n",
      "k:44 l:1000 p1:0.05 p2:1.00 error:0.05\n",
      "k:45 l:1000 p1:0.04 p2:1.00 error:0.04\n",
      "k:46 l:1000 p1:0.03 p2:1.00 error:0.03\n",
      "k:47 l:1000 p1:0.03 p2:1.00 error:0.03\n",
      "k:48 l:1000 p1:0.02 p2:1.00 error:0.02\n",
      "k:49 l:1000 p1:0.02 p2:1.00 error:0.02\n",
      "k:50 l:1000 p1:0.01 p2:0.99 error:0.01\n",
      "k:51 l:1000 p1:0.01 p2:0.99 error:0.01\n",
      "k:52 l:1000 p1:0.01 p2:0.98 error:0.02\n",
      "k:53 l:1000 p1:0.01 p2:0.98 error:0.02\n",
      "k:54 l:1000 p1:0.01 p2:0.97 error:0.03\n",
      "k:55 l:1000 p1:0.00 p2:0.95 error:0.05\n",
      "k:56 l:1000 p1:0.00 p2:0.94 error:0.06\n",
      "k:57 l:1000 p1:0.00 p2:0.92 error:0.08\n",
      "k:58 l:1000 p1:0.00 p2:0.89 error:0.11\n",
      "k:59 l:1000 p1:0.00 p2:0.86 error:0.14\n",
      "k:60 l:1000 p1:0.00 p2:0.83 error:0.17\n",
      "k:61 l:1000 p1:0.00 p2:0.80 error:0.20\n",
      "k:62 l:1000 p1:0.00 p2:0.77 error:0.23\n",
      "k:63 l:1000 p1:0.00 p2:0.73 error:0.27\n",
      "k:64 l:1000 p1:0.00 p2:0.69 error:0.31\n",
      "k:65 l:1000 p1:0.00 p2:0.65 error:0.35\n",
      "k:66 l:1000 p1:0.00 p2:0.62 error:0.38\n",
      "k:67 l:1000 p1:0.00 p2:0.58 error:0.42\n",
      "k:68 l:1000 p1:0.00 p2:0.54 error:0.46\n",
      "k:69 l:1000 p1:0.00 p2:0.50 error:0.50\n",
      "k:70 l:1000 p1:0.00 p2:0.47 error:0.53\n",
      "k:71 l:1000 p1:0.00 p2:0.43 error:0.57\n",
      "k:72 l:1000 p1:0.00 p2:0.40 error:0.60\n",
      "k:73 l:1000 p1:0.00 p2:0.37 error:0.63\n",
      "k:74 l:1000 p1:0.00 p2:0.34 error:0.66\n",
      "k:75 l:1000 p1:0.00 p2:0.31 error:0.69\n",
      "k:76 l:1000 p1:0.00 p2:0.28 error:0.72\n",
      "k:77 l:1000 p1:0.00 p2:0.26 error:0.74\n",
      "k:78 l:1000 p1:0.00 p2:0.24 error:0.76\n",
      "k:79 l:1000 p1:0.00 p2:0.22 error:0.78\n",
      "k:80 l:1000 p1:0.00 p2:0.20 error:0.80\n",
      "k:81 l:1000 p1:0.00 p2:0.18 error:0.82\n",
      "k:82 l:1000 p1:0.00 p2:0.16 error:0.84\n",
      "k:83 l:1000 p1:0.00 p2:0.15 error:0.85\n",
      "k:84 l:1000 p1:0.00 p2:0.13 error:0.87\n",
      "k:85 l:1000 p1:0.00 p2:0.12 error:0.88\n",
      "k:86 l:1000 p1:0.00 p2:0.11 error:0.89\n",
      "k:87 l:1000 p1:0.00 p2:0.10 error:0.90\n",
      "k:88 l:1000 p1:0.00 p2:0.09 error:0.91\n",
      "k:89 l:1000 p1:0.00 p2:0.08 error:0.92\n",
      "k:90 l:1000 p1:0.00 p2:0.07 error:0.93\n",
      "k:91 l:1000 p1:0.00 p2:0.07 error:0.93\n",
      "k:92 l:1000 p1:0.00 p2:0.06 error:0.94\n",
      "k:93 l:1000 p1:0.00 p2:0.05 error:0.95\n",
      "k:94 l:1000 p1:0.00 p2:0.05 error:0.95\n",
      "k:95 l:1000 p1:0.00 p2:0.04 error:0.96\n",
      "k:96 l:1000 p1:0.00 p2:0.04 error:0.96\n",
      "k:97 l:1000 p1:0.00 p2:0.04 error:0.96\n",
      "k:98 l:1000 p1:0.00 p2:0.03 error:0.97\n",
      "k:99 l:1000 p1:0.00 p2:0.03 error:0.97\n"
     ]
    }
   ],
   "source": [
    "def computeOrOfAndProbabilities(p1,p2,k,l):\n",
    "    p1,p2=computeAndProbabilities(p1,p2,k)\n",
    "    return computeOrProbabilities(p1,p2,l)\n",
    "\n",
    "l=1000\n",
    "for k in range(1,100):\n",
    "    p1,p2=computeOrOfAndProbabilities(0.8,0.9,k,l)\n",
    "    print(\"k:{:2} l:{:2} p1:{:.2f} p2:{:.2f} error:{:.2f}\".format(k,l,p1,p2,error(p1,p2)))"
   ]
  },
  {
   "cell_type": "markdown",
   "metadata": {},
   "source": [
    "Bingo! We see there is a sweet spot where the error has been reduced to 1%"
   ]
  },
  {
   "cell_type": "markdown",
   "metadata": {},
   "source": [
    "We now graphically show the effect of different choices of $k$ and $\\ell$. The general goal is to pick the smallest $k$ and $\\ell$ so that the initial $p_1$ becomes at most $\\delta$, and $p_2$ becomes at least $1-\\delta$, where $\\delta$ is the desired error rate. I picked a few $k$ and $\\ell$ to plot, you should experiment!"
   ]
  },
  {
   "cell_type": "code",
   "execution_count": 15,
   "metadata": {},
   "outputs": [
    {
     "data": {
      "image/png": "[encoded data removed]",
      "text/plain": [
       "<Figure size 576x360 with 1 Axes>"
      ]
     },
     "metadata": {
      "needs_background": "light"
     },
     "output_type": "display_data"
    }
   ],
   "source": [
    "import matplotlib.pyplot as plt\n",
    "\n",
    "def plotLSH(klpairs,figsize=[8,5]):\n",
    "    fig, ax = plt.subplots(figsize=figsize)\n",
    "    P=[x/100 for x in range(100)]\n",
    "    for k,l in klpairs:\n",
    "        Probs=[1-(1-(p)**k)**l for p in P]\n",
    "        ax.plot(P,Probs,label=\"k=\"+str(k)+\", l=\"+str(l))\n",
    "    ax.set_xlabel(\"p before amplification\")\n",
    "    ax.set_ylabel(\"p after amplification\")\n",
    "    ax.set_title(\"LSH amplification\")\n",
    "    Ticks=[x/10 for x in range(11)]\n",
    "    ax.set_xticks(Ticks)\n",
    "    ax.set_yticks(Ticks)\n",
    "    ax.legend()\n",
    "    plt.xlim([0,1])\n",
    "    plt.ylim([0,1])\n",
    "    plt.grid()\n",
    "\n",
    "plotLSH([(10,10),(20,5),(50,2),(2,2),(50,1000)])\n"
   ]
  },
  {
   "cell_type": "markdown",
   "metadata": {},
   "source": [
    "In general $\\ell$ is more important than $k$ to minimize for reasons I will explain soon. So, here are two functions. One which given a $k$ finds the best $\\ell$ to minimize the error. The second function, which uses the first, is given an desired error rate and finds the smallest $k$ "
   ]
  },
  {
   "cell_type": "code",
   "execution_count": 62,
   "metadata": {},
   "outputs": [
    {
     "name": "stdout",
     "output_type": "stream",
     "text": [
      "Best error starting with p1=0.8 and p2=0.9 with l=10 is k=18 error=0.19665532274027187\n"
     ]
    }
   ],
   "source": [
    "def findMinK(p1in,p2in,l):\n",
    "    bestk=-1\n",
    "    minerror=2\n",
    "    best=None\n",
    "    k=1\n",
    "    while True:\n",
    "        p1,p2=computeOrOfAndProbabilities(p1in,p2in,k,l)\n",
    "        e=error(p1,p2)\n",
    "        if e<=minerror:\n",
    "            minerror=e\n",
    "            bestk=k    \n",
    "            best=(p1,p2)\n",
    "            k+=1\n",
    "        else:\n",
    "            break\n",
    "    return (bestk,minerror,best)\n",
    "\n",
    "l=10\n",
    "p1=.8\n",
    "p2=.9\n",
    "bestk,minerror,best=findMinK(p1,p2,l)\n",
    "print(\"Best error starting with p1=\"+str(p1)+\" and p2=\"+str(p2)+\" with l=\"+str(l)+\" is k=\"+str(bestk)+\" error=\"+str(minerror))"
   ]
  },
  {
   "cell_type": "code",
   "execution_count": 67,
   "metadata": {},
   "outputs": [
    {
     "name": "stdout",
     "output_type": "stream",
     "text": [
      "With p1=0.8 p2=0.9 and target error>0.1 choose: k=27 l=39 which gives error=0.09667021221455974\n"
     ]
    }
   ],
   "source": [
    "def findKL(p1,p2,err):\n",
    "    l=1\n",
    "    for x in range(40):\n",
    "        bestk,minerror,best=findMinK(p1,p2,l)\n",
    "        if minerror<err:\n",
    "            return (bestk,l,minerror,best)\n",
    "        l+=1\n",
    "        \n",
    "p1=.8\n",
    "p2=.9\n",
    "err=0.1\n",
    "bestk,bestl,minerror,best=findKL(p1,p2,err)\n",
    "print(\"With p1=\"+str(p1)+\" p2=\"+str(p2)+\" and target error>\"+str(err)+\n",
    "      \" choose: k=\"+str(bestk)+\" l=\"+str(bestl)+\" which gives error=\"+str(minerror))"
   ]
  },
  {
   "cell_type": "markdown",
   "metadata": {},
   "source": [
    "# Back to Jaquard and minhash\n",
    "\n",
    "Does our score estimator meet the definition of LSH? Yes! Recall the LSH definition:\n",
    "\n",
    "Suppose you have a set of hash functions $H$, some data, and some distance measure $d$ over your data. We say that $H$ is a $(r,c,p_1,p_2)$ LSH family if:\n",
    "\n",
    "- If $d(x,y) \\leq r$ then $h(x)=h(y)$ with probability at least $p_1$\n",
    "- If $d(x,y) \\geq cr$ then $h(x)=h(y)$ with probability at most $p_2$\n",
    "\n",
    "with $p_1>p_2$.\n",
    "\n",
    "\n",
    "Recall that $j(x,y)$ was the Jaquard similarity. As LSH requires a distance, let $d(x,y)=1-j(x,y)$ so that identical strings have distance zero and very different strings have distance 1. For the hash, we simplly use the score as computed from the random permutation of the fragments. We had shown that $Pr[s(x)=s(y)]=j(x,y)$.\n",
    "\n",
    "Thus we have\n",
    "\n",
    "- If $\\overbrace{d(x,y) \\leq r}^{j(x,y) \\geq 1-r}$ then $s(x)=s(y)$ with probability at least $1-r$ \n",
    "- If $\\underbrace{d(x,y) \\geq cr}_{j(x,y) \\leq 1-cr}$ then $s(x)=s(y)$ with probability at most $1-cr$ \n",
    "\n",
    "\n",
    "\n"
   ]
  },
  {
   "cell_type": "markdown",
   "metadata": {},
   "source": [
    "I will now go though an example, given a real data set, how to use LSH to see if there is a document similar to a query document. First, the following code downloads the data set and may take some time the first time you run it:"
   ]
  },
  {
   "cell_type": "code",
   "execution_count": 22,
   "metadata": {},
   "outputs": [
    {
     "name": "stderr",
     "output_type": "stream",
     "text": [
      "[nltk_data] Downloading package reuters to /Users/iacono/nltk_data...\n"
     ]
    },
    {
     "data": {
      "text/plain": [
       "True"
      ]
     },
     "execution_count": 22,
     "metadata": {},
     "output_type": "execute_result"
    }
   ],
   "source": [
    "import nltk\n",
    "from nltk.corpus import reuters\n",
    "nltk.download('reuters')"
   ]
  },
  {
   "cell_type": "markdown",
   "metadata": {},
   "source": [
    "Now, some minor processing. I print the number of documents, the total size, and the 700th document just to show you what they look like. I also put all the documents into a dictionary `data` where each document is indexed by a document ID, which is a short string."
   ]
  },
  {
   "cell_type": "code",
   "execution_count": 23,
   "metadata": {
    "scrolled": true
   },
   "outputs": [
    {
     "name": "stdout",
     "output_type": "stream",
     "text": [
      "Number of documents: 10788\n",
      "Total size 8846853\n",
      "SMUGGLING BLAMED FOR CLOSURE OF HAITIAN SUGAR FIRM\n",
      "  A sugar mill which was this\n",
      "  nation's second largest employer closed its doors yesterday,\n",
      "  saying it had been run out of business by sugar smuggled from\n",
      "  Miami and the neighbouring Dominican Republic.\n",
      "      The closure of the Haitian American Sugar Company (HASCO)\n",
      "  will idle 3,500 employees and affect as many as 30,000 to\n",
      "  40,000 small sugar cane planters in regions around the capital,\n",
      "  the company said.\n",
      "      \"Because of unprecedented and ever-growing smuggling, HASCO\n",
      "  regrets ... It cannot continue to accept delivery of sugar cane\n",
      "  after April 10,\" the mill warned planters earlier this week.\n",
      "      Since President Jean-Claude Duvalier fled Haiti fourteen\n",
      "  months ago, widescale smuggling of basic goods such as cooking\n",
      "  oil, flour, rice, sugar and canned milk has lowered consumer\n",
      "  prices but bankrupted several local manufacturers, throwing\n",
      "  hundreds of thousands of Haitians out of work.\n",
      "      At the HASCO compound, where grim-faced workers lined up to\n",
      "  receive their last pay, Spokesman Georges D. Rigaud showed a\n",
      "  warehouse stocked with an estimated 445,000 unsold 100-pound\n",
      "  (45-kg) bags of sugar.\n",
      "      \"We are closing because of our huge stock of unsold sugar.\n",
      "  We have no money left to continue operations,\" Rigaud said.\n",
      "      He said the company owed 7.6 mln dlrs and had borrowed an\n",
      "  additional 1.5 mln dlrs in order to pay off workers.\n",
      "      Rigaud blamed the mill's problems on an order by Duvalier\n",
      "  two years ago forbidding HASCO from refining sugar.\n",
      "      He said the government then began importing refined sugar\n",
      "  at world market prices and reselling it at a huge profit and\n",
      "  the provisional military-civilian government that replaced\n",
      "  Duvalier last year continued the policy.\n",
      "      \"But now with all the smuggling even the state can't compete\n",
      "  with smuggled Dominican refined sugar,\" Rigaud said.\n",
      "      HASCO workers earned 4.20 dlrs daily, considerably above\n",
      "  the usual minimum wage of three dlrs.\n",
      "      It is generally estimated that every employed Haitian\n",
      "  supports at least six people. Rigaud said HASCO's closing at a\n",
      "  minimum would affect 280,000 to 300,000 people.\n",
      "      Laid-off workers were bitter about the closure. \"We're dead,\n",
      "  and it's the government that's causing us to die,\" declared\n",
      "  Lucien Felix, 34, who has five dependents.\n",
      "  \n",
      "\n",
      "\n"
     ]
    }
   ],
   "source": [
    "# List of documents\n",
    "IDs=reuters.fileids()\n",
    "print(\"Number of documents:\",len(IDs))\n",
    "print(\"Total size\",sum(len(reuters.raw(IDs[i])) for i in range(len(IDs))))\n",
    "print(reuters.raw(IDs[700]));\n",
    "\n",
    "#Put data into dictionary\n",
    "data={}\n",
    "for id in IDs:\n",
    "    data[id]=reuters.raw(id)\n"
   ]
  },
  {
   "cell_type": "markdown",
   "metadata": {},
   "source": [
    "Now, I take the above document and made a few small changes, such as changing the word `CLOSURE` to `OPENING` in the first sentence and add it to the data set with ID `TOTEST`."
   ]
  },
  {
   "cell_type": "code",
   "execution_count": 24,
   "metadata": {},
   "outputs": [],
   "source": [
    "TOTEST=\"\"\"SMUGGLING BLAMED FOR OPENING OF HAITIAN SUGAR FIRM\n",
    "  A sugar mill which was this\n",
    "  nation's second largest employer closed its doors yesterday,\n",
    "  saying it had been run out of business by sugar smuggled from\n",
    "  Miami and the neighbouring Dominican Republic.\n",
    "      The closure of the Haitian American Sugar Company (HASCO)\n",
    "  will idle 3,500 employees and affect as many as 30,000 to\n",
    "  40,000 small sugar cane planters in regions around the capital,\n",
    "  the company said.\n",
    "      \"Because of unprecedented and ever-growing smuggling, HASCO\n",
    "  regrets ... It cannot continue to accept delivery of sugar cane\n",
    "  after April 10,\" the mill warned planters earlier this week.\n",
    "      Since President Jean-Claude Duvalier fled Haiti fourteen\n",
    "  months ago, widescale smuggling of basic goods such as cooking\n",
    "  oil, flour, rice, sugar and canned milk has lowered consumer\n",
    "  prices but bankrupted several local manufacturers, throwing\n",
    "  hundreds of thousands of Haitians out of work.\n",
    "      At the HASCO compound, where grim-faced workers lined up to\n",
    "  receive their last pay, Spokesman Georges D. Rigaud showed a\n",
    "  warehouse stocked with an estimated 445,000 unsold 100-pound\n",
    "  (45-kg) bags of sugar.\n",
    "      \"We are closing because of our huge stock of unsold sugar.\n",
    "  We have no money left to continue operations,\" Rigaud said.\n",
    "      He said the company owed 7.6 mln dlrs and had borrowed an\n",
    "  additional 1.5 mln dlrs in order to pay off workers.\n",
    "      Rigaud blamed the mill's problems on an order by Duvalier\n",
    "  two years ago forbidding HASCO from refining sugar.\n",
    "      He said the government then began importing refined sugar\n",
    "  at world market prices and reselling it at a huge profit and\n",
    "  the provisional military-civilian government that replaced\n",
    "  Duvalier last year continued the policy.\n",
    "      \"But now with all the smuggling even the state can't compete\n",
    "  with smuggled Dominican refined sugar,\" Rigaud said.\n",
    "      HASCO workers earned 4.20 dlrs daily, considerably above\n",
    "  the usual minimum wage of three dlrs.\n",
    "      It is generally estimated that every employed Haitian\n",
    "  supports at least six people. Rigaud said HASCO's closing at a\n",
    "  minimum would affect 280,000 to 300,000 people.\n",
    "      Laid-off workers were bitter about the closure. \"We're dead,\n",
    "  and it's the government that's causing us to die,\" declared\n",
    "  Lucien Felix, 34, who has five dependents.\"\"\"\n",
    "\n",
    "data[\"TOTEST\"]=TOTEST"
   ]
  },
  {
   "cell_type": "markdown",
   "metadata": {},
   "source": [
    "Now we break each document into fragments, using a fragment size of 8. I print out the fragments of `TOTEST`."
   ]
  },
  {
   "cell_type": "code",
   "execution_count": 29,
   "metadata": {},
   "outputs": [],
   "source": [
    "fragSize=8\n",
    "frags={}\n",
    "for id in data:\n",
    "    frags[id]=fragments(data[id],fragSize) "
   ]
  },
  {
   "cell_type": "code",
   "execution_count": 27,
   "metadata": {},
   "outputs": [
    {
     "name": "stdout",
     "output_type": "stream",
     "text": [
      "{'mporting', ' 40,000 ', '\\n  price', 'unpreced', 'M\\n  A su', 'nd large', 'aud said', 'stock of', 'where gr', 'ians out', 'd 445,00', \"'s closi\", 'ay, Spok', 'any as 3', 'O\\n  regr', 'st pay, ', 'ound, wh', '     At ', 'h was th', 'f work.\\n', '45,000 u', 'tary-civ', '.. It ca', 'consider', ' will id', ' in regi', 'l manufa', ' dlrs da', 'l 10,\" t', 'y,\\n  say', 'ie,\" dec', 'ovisiona', 'e profit', '  He sai', ' importi', 'derably ', \"n's seco\", '00 unsol', 'rom refi', 'estimate', 'uring Do', 'pay, Spo', 'egrets .', '    Sinc', 'ds of th', 'e capita', 'ar\\n  at ', 'ned milk', ',000 peo', '\\n  natio', 'aitian\\n ', 'lowered ', 'aud blam', 'rs.\\n    ', 'ier last', 'r Compan', 'lier\\n  t', 'pendents', 'ling it ', 'e,\" decl', 'nerally ', 'led from', 'can Suga', ' huge pr', 'ut bankr', 'o forbid', 'nd affec', 'r cane p', 'ted 445,', 'f unprec', 'blems on', ' bags of', 'idescale', 'ng us to', '  We hav', 'G BLAMED', 'ith all ', ' unprece', ',\\n  sayi', 't is gen', 'y off wo', 'rehouse ', 'rts at l', ' were bi', ' borrowe', 'CO from ', 'ess by s', ' run out', 'erday,\\n ', '    It i', 'll warne', ' smuggli', 'pt deliv', 'r about ', 'ent that', ' year co', 'f sugar.', 'uge prof', ', rice, ', 'dditiona', '  Rigaud', 'ud showe', 'd 100-po', 'rkers.\\n ', 'fect as ', 'gar,\" Ri', 'of our h', 'rovision', 'ourteen\\n', 'pril 10,', 'profit a', 'ional mi', 'n order ', 'nters in', '  prices', 'd an\\n  a', \"can't co\", 's on an ', '000 unso', ' \"We are', '      Ri', 'gling ev', 'last yea', ' even th', '\" declar', 'lier las', 'rday,\\n  ', 'he capit', 'tian\\n  s', ' and aff', 'an\\n  sup', ' the HAS', '280,000 ', 'ing us t', 'aily, co', ' this we', ' market ', ' that re', \"'re dead\", 'around t', 'ices but', 'he usual', 'm would ', 'd the po', \"mill's p\", \"it's the\", 'igaud bl', 'st emplo', 'nsold 10', 'the stat', ' on an o', 'n began ', 'y said.\\n', 'gar.\\n   ', 'okesman ', 'planters', ',\" Rigau', 'd 4.20 d', 'ing\\n  hu', 'd that e', 'r-growin', 'd resell', 'y Duvali', 'uch as c', 'il, flou', 'ment the', 'f three ', 'clared\\n ', 'ment tha', 'ntinue o', ' cane\\n  ', 'e Duvali', 'loyed Ha', 'en run o', 'ago forb', 'ck of un', \"SCO's cl\", ' to\\n  re', 'd Haiti ', 'le smugg', 't that r', 'anufactu', 'ominican', ' conside', 'uld affe', 'th smugg', ' said th', 's 30,000', '(HASCO)\\n', 'consumer', 'nted and', 'd\\n  Duva', 'widescal', 'GAR FIRM', '   Rigau', 'six peop', 'rgest em', 'nt that ', 'ndreds o', ' about t', 'osing be', 'l,\\n  the', ' OPENING', 'We are c', ' of thou', 'rican Su', 'and ever', 'ly, cons', 'n\\n  addi', ' such as', 'orrowed ', 's,\" Riga', 'mall sug', '... It c', 'are clos', 'ly above', 'ucien Fe', '      Si', 'ked with', 'small su', 'ented an', ' of unpr', 'rs in or', 'ffect as', ' wage of', 'ugar and', 'ems on a', 'ated tha', '0,000 sm', 'ed 7.6 m', ' Republi', 'of basic', 's ago fo', 'n estima', 'ix, 34, ', '   It is', \"d it's t\", 'he polic', 'IAN SUGA', 'ane plan', 'veral lo', 'MUGGLING', ' had bee', 'ugar Com', ' 280,000', 'nsold su', ' cannot ', 'orts at ', 'eral loc', 'ed the m', 'ompete\\n ', 'many as ', 'd milk h', 'ect 280,', 'y owed 7', '\\n      I', 'ople.\\n  ', 'ork.\\n   ', \"e mill's\", 'ng, HASC', 's in reg', ' stock o', ' Company', 'ouse sto', ' usual m', 'id.\\n    ', ' of work', 'eople. R', 's genera', 'workers.', 'd\\n  Luci', 've depen', 'le.\\n    ', 'people. ', 't of bus', 'igaud sa', 'of unpre', 'as five ', 'TIAN SUG', 'an Repub', 'ct as ma', ' 100-pou', 'mployed ', 'an Sugar', 'OR OPENI', 'ut of wo', 'fit and\\n', ' regrets', ' two yea', 'visional', '\\n  (45-k', 'o accept', 'e, sugar', \" and it'\", 'g Domini', 'scale sm', 'kg) bags', 'f unsold', '      He', 'smuggled', 'ce Presi', 'and had ', ' refined', 'ay,\\n  sa', 'ude Duva', 'civilian', 'itary-ci', 'rkers we', 'dependen', 'valier f', 'ar conti', 'G OF HAI', 'and\\n  th', ' neighbo', 'ing beca', 'ations,\"', 'osed its', 'ofit and', 'ted and ', 's in ord', 's doors ', 't delive', ' HASCO c', 'GLING BL', ' Spokesm', 'al milit', '\\n      \"', 'll the s', 'Presiden', ' earlier', 'at world', ' dlrs.\\n ', 'using us', 'aude Duv', 'epublic.', 'throwing', 'ld affec', 'Since Pr', '  A suga', 'anters i', '. Rigaud', 'l milita', 'valier\\n ', ' workers', 'rket pri', 'ng refin', 'r\\n  pric', ' closure', 'se of un', ' warehou', ' It is g', ' provisi', 'ns,\" Rig', 's proble', 'ure of t', 'ublic.\\n ', ' mln dlr', 'F HAITIA', 'ff worke', 'st six p', '    At t', 'ed its d', 'closing ', '-kg) bag', 'ican ref', '\\n      H', 't bankru', 'rs were ', 'e dead,\\n', '0 unsold', '20 dlrs ', 'licy.\\n  ', 'o pay of', 'ct 280,0', 'policy.\\n', 'Georges ', 'AITIAN S', 'milk has', 'affect 2', '\\n  hundr', 'D. Rigau', 'ar Compa', 'gling, H', 'ces and ', ',\" decla', 'by sugar', 'R FIRM\\n ', 'ney left', 'ns aroun', 'yees and', \" HASCO's\", '  and it', 'descale ', 'ld sugar', 'r last p', ' where g', ' to cont', 'r this w', 'selling ', 'nned mil', 'said.\\n  ', 'grim-fac', 'uggling,', 'ital,\\n  ', ' because', 'facturer', 'y above\\n', 'NG OF HA', 'l, flour', 'ot conti', 'um would', '\\n  the u', 'upports ', 'egions a', 't year c', ' the usu', ' regions', 're bitte', 'Haitian ', ' at a\\n  ', ' Haiti f', \"'s causi\", 'to pay o', ' small s', 'er\\n  two', 'anned mi', '34, who ', 'resellin', '0 dlrs d', 'amed the', 'ud said.', 'Republic', 'cooking\\n', 'housands', 'e bitter', '\\n  wareh', 'money le', 'grets ..', 'ompany s', 'an estim', 'ined sug', 'te\\n  wit', 'e no mon', 'al minim', 'eorges D', '  the us', 'ed 4.20 ', '-faced w', 'f busine', 'idle 3,5', 'ln dlrs ', 'sing at ', 'd the co', 'borrowed', 'ITIAN SU', 'his\\n  na', 'al manuf', 's closin', ' are clo', 'arned 4.', ' \"We\\'re ', 'to 300,0', 'alier\\n  ', 'ting ref', ' to die,', 'ggled fr', 'mill war', 'O from r', 'We have ', ' manufac', 's.\\n     ', 'go forbi', 'er last ', ' Laid-of', '    The ', 'dlrs in ', 'y estima', \"he mill'\", 'tinue to', 's this\\n ', 'om refin', 'is\\n  nat', '   The c', 'f worker', 'very of ', ' to pay ', 'ars ago ', 'rowed an', '  additi', ' Georges', 's lowere', 'p to\\n  r', 'ods such', '      It', 'ags of s', 'fining s', ' after A', 'had been', '  regret', '\\n  the p', 'm wage o', 'lamed th', 'ow with ', 'ggling, ', ' smuggle', 'ecedente', 'die,\" de', '  saying', 'heir las', \"'s the g\", 'le 3,500', 'apital,\\n', '      \"B', 'e depend', 'nt then ', 'refined ', 'IRM\\n  A ', 'cane pla', 'hundreds', 'ier this', ' (45-kg)', 'ing refi', 'ding HAS', '00-pound', \"t that's\", 'lly esti', 'inican r', ' 3,500 e', '\\n  Duval', 'rs in re', 'LING BLA', '  Duvali', 'uvalier ', 'o\\n  rece', 'ery empl', '  months', 'rers, th', 'vernment', 'an impor', 'out of b', 'as this\\n', 'ld 100-p', 'It is ge', 'ier fled', 'losure o', 'e to acc', 'ock of u', 'id-off w', 'SCO)\\n  w', 'ing Domi', 'rations,', 'tional 1', 'this wee', 'week.\\n  ', 'pports a', 'imated t', ', 34, wh', '1.5 mln ', ' canned ', '  two ye', 'n the st', '     Rig', 'yed Hait', 's by sug', 'arket pr', ' pay, Sp', 'arehouse', 'this\\n  n', ' by Duva', 'ge profi', 'tate can', ' that ev', 'ters ear', 's D. Rig', 'earned 4', 'ho has f', \"CO's clo\", 'itian Am', 'ing at a', 'ple.\\n   ', 'y sugar ', ' Sugar C', 'aitian A', 'ple. Rig', '00 to 30', ' of our ', 'elling i', \"O's clos\", '\\n  with ', ' huge st', '\\n  will ', 'AMED FOR', 'of Haiti', ', where ', 'er\\n  pri', ' 34, who', 'faced wo', 'e closin', 'UGAR FIR', 'dent Jea', 'led Hait', 'ar smugg', 'ASCO com', 'sugar.\\n ', 'o contin', ' Rigaud ', 'ith smug', ' Haitian', 'canned m', '      \"W', 'efined s', 'us to di', 'mi and t', '3,500 em', 'go, wide', 'esman Ge', ' sugar m', 'all suga', 'ago, wid', ' as 30,0', 'nkrupted', 't had be', 'arlier t', 'inue to ', 'ny said.', 'warehous', 'sugar ca', 'gan impo', '.\\n      ', 'ompany (', 'governme', 'FIRM\\n  A', 'er to pa', 'forbiddi', 'sident J', '  40,000', '  \"We ar', 'ud said ', '45-kg) b', 'importin', 'rs daily', 'mated th', 's of tho', 'every em', 'en began', ' then be', 'onsidera', 'ggled Do', '  minimu', 'pany sai', 'ast year', 'placed\\n ', 'o has fi', '      At', \"'s probl\", 'f sugar ', 'eive the', ' estimat', 'orld mar', ' Miami a', ' of Hait', '      La', 've no mo', 'ove\\n  th', \"l's prob\", 'ld marke', 'ue opera', 'O compou', 's to die', 'ggling e', 'uggling ', 'e\\n  the ', \" that's \", 't world ', 'pound\\n  ', 'escale s', 'he HASCO', '80,000 t', 'ould aff', 'cannot c', 'five dep', 'ugar mil', ' sugar\\n ', 'es and a', 'he state', 'd a\\n  wa', 'lling it', 'ed 445,0', 'nican re', '10,\" the', 'mpete\\n  ', \"'t compe\", 'minimum ', 's were b', 'thousand', 'HASCO wo', 'lems on ', ' bitter ', 'ar mill ', 'yesterda', 'd up to\\n', 'sional m', 'uvalier\\n', 'ch was t', ' earned ', 'esident ', 'oney lef', 'orkers w', '5,000 un', 'of busin', 'about th', '00 small', 'r, rice,', 'ds such ', 'as cooki', 's at lea', \"at's cau\", 'resident', 'nd had b', 'pted sev', 'n run ou', 'ft to co', ' forbidd', 'orkers e', 'rlier th', ' We have', 'ers.\\n   ', ' April 1', 'several ', ' it had ', 'gar.\\n  W', ' all the', 'e mill w', 'Jean-Cla', 'It canno', 'ns out o', 'ar.\\n    ', 'an order', 'laced\\n  ', 'und the ', 'will idl', 'showed a', ' a\\n  min', 'losing b', 'ING OF H', 'ENING OF', 'orkers l', 's week.\\n', ' general', ' a huge ', 'efining ', 'h as coo', 'SCO from', 'icy.\\n   ', '   He sa', 'the prov', 'oking\\n  ', 'e of unp', 't at a h', 'e policy', 't employ', ', widesc', 'ver-grow', 't a huge', 'nal mili', 'ican Rep', '300,000 ', 'an Georg', 'd borrow', ' work.\\n ', 'om\\n  Mia', 'ditional', 'l which ', ' week.\\n ', 'd Domini', 'mum wage', 'howed a\\n', 'here gri', 'ed and e', ' additio', 'gar\\n  at', \"hat's ca\", ' an\\n  ad', 'lrs in o', 'er April', 'terday,\\n', 'eclared\\n', 'ontinue ', 'day,\\n  s', 'in regio', 'al,\\n  th', 'replaced', ' its doo', 'inican R', ' 445,000', \"d HASCO'\", 'rom\\n  Mi', 've\\n  the', 'ect as m', ', HASCO\\n', '\\n  suppo', '  Lucien', ' (HASCO)', 'ng smugg', 't a\\n  mi', 'ets ... ', 'ar cane ', 'refining', '. \"We\\'re', 'unsold 1', 'elix, 34', 'any said', 'April 10', ' Lucien ', 'nths ago', 'en Felix', 'ur huge ', 'even the', 'ent Jean', ' the pro', 's five d', 'osing at', '.20 dlrs', ' of unso', 'alier fl', 'y (HASCO', \"t's caus\", 'ar and c', 'and cann', 'mum woul', 'hich was', '\\n      T', 'cale smu', 'kers.\\n  ', '000 peop', 'ng sugar', ' our hug', 'rder to ', 'to\\n  rec', 'imum wag', 'orbiddin', '\\n  after', 'ered con', 's of Hai', '.\\n  We h', 'rowing s', 'ffect 28', 'o 300,00', 'd ever-g', 'd worker', 'ed worke', 'NING OF ', 'the usua', ' Duvalie', 'd been r', 'sugar an', 'owing sm', 'ional 1.', 'ned 4.20', 'pany (HA', 'imum wou', 'd had bo', 'f thousa', 'now with', 'orges D.', ' At the ', 'ill whic', 'asic goo', 'cked wit', 'lared\\n  ', 'nt Jean-', 'UGGLING ', '0 employ', 'ry emplo', 'earlier ', '  at wor', '  At the', ' ago, wi', 'iti four', 's lined ', 'er this ', ' support', 'd the mi', '-pound\\n ', 'e their ', 'der to p', 'ASCO fro', 'gar and ', '\"Because', ' to acce', '\\n  recei', 'their la', 'Rigaud b', 'all the ', ' five de', ' fourtee', 'the poli', ' a\\n  war', 'g at a\\n ', 'ined up ', 'd consum', 'ompound,', 'o die,\" ', '500 empl', 'pital,\\n ', ' it at a', 'ue to ac', 'sumer\\n  ', 't as man', '445,000 ', 'ng\\n  oil', 'bankrupt', ' BLAMED ', 'second l', 'his week', '     Lai', 'undreds ', 'tians ou', 'red\\n  Lu', 'been run', 'who has ', '\\n  month', '-civilia', 'ed an\\n  ', 'muggling', 'addition', 'ilitary-', 'onths ag', ' blamed ', ' the clo', 'nd\\n  (45', 'm refini', 'annot co', 'compound', ' have no', 'nimum wa', 'ing\\n  oi', 'ilk has ', 'basic go', 'after Ap', '     \"Bu', 'gar smug', 'he compa', 'ud blame', ' Jean-Cl', 'but bank', 'can refi', 'e compan', 'ghbourin', 'goods su', 'at every', 'pany owe', 'he provi', 'ts at le', 'PENING O', 'siness b', 'h all th', 'e\\n  afte', 'eceive t', 'ur, rice', 'ng it ha', 'est empl', 'f the Ha', 'Sugar Co', 'ian\\n  su', 'd affect', '0 to\\n  4', ' planter', 'm-faced ', ' sugar.\\n', 'e of thr', 'ed up to', ' out of ', 're dead,', '  hundre', 'nd ever-', 'an gover', 'lier thi', ' dlrs an', 'n govern', 'peration', ' busines', 'rice, su', 'lrs.\\n   ', 'and the ', 'he closu', ' \"Becaus', 'declared', ' which w', ' lined u', ' sugar a', ' operati', 'kers wer', 'can Repu', 'public.\\n', 'l the sm', 'der by D', ' basic g', 'ek.\\n    ', 'rned pla', ' Since P', 'receive ', 're of th', '   HASCO', 'largest ', 'aying it', 's but ba', '  It is ', 'igaud sh', 'ti fourt', ' bankrup', 'losure. ', 'everal l', 'world ma', ' at worl', 'ast six ', ',000 to ', 'old suga', 'ar.\\n  We', 'r cane\\n ', 'Haitians', 't every ', 'ic goods', 'rably ab', ' HASCO w', ' company', '\\n  Lucie', 'uggled D', ' and can', 'at a hug', 't contin', 'ed Domin', 't 280,00', ' every e', 'SCO\\n  re', 'as 30,00', 'bidding ', 'regrets ', 'ead,\\n  a', ' consume', 'from\\n  M', 's and ha', 'ters in ', 'ee dlrs.', 'sure of ', 'house st', 'he gover', 'lier fle', '\"But now', 'use of o', 'prices b', 'gaud sai', 'e Haitia', 'sterday,', 'ing suga', 'HASCO\\n  ', 'ne\\n  aft', 'ed from\\n', '(45-kg) ', 'old 100-', 'that rep', 'red cons', 'ng Domin', 'd sugar.', ' die,\" d', 'n George', 'SUGAR FI', 'r contin', 'ers were', 'mln dlrs', 'ugar can', 'owed 7.6', 'gest emp', '\\n      A', 'a huge p', 'the capi', 'OPENING ', 'aced\\n  D', 'itional ', 'rbidding', 'onal mil', '30,000 t', 'with an ', 'sic good', 'timated ', 'manufact', 'e neighb', 'because ', ' in orde', '\\n  two y', '000 to 3', 't pay, S', 'r closed', 'ny owed ', 'losing a', 'd market', 'turers, ', 'MED FOR ', 'pete\\n  w', 'GGLING B', '    \"Bec', 'sold sug', ' was thi', 'h smuggl', 'kers lin', 'ic.\\n    ', 't prices', 'HASCO co', ' yesterd', 'ing smug', 'g, HASCO', 'ugar\\n  a', 'ared\\n  L', ' grim-fa', ' this\\n  ', ' capital', 'urers, t', 'ernment ', '\" the mi', ' 4.20 dl', 'ccept de', 'king\\n  o', 'ployed H', 'ket pric', '  after ', 'minican ', 'ned suga', 'ed the p', ' above\\n ', 'then beg', ' dead,\\n ', ' flour, ', '000 to\\n ', 'g becaus', 'Felix, 3', '  will i', '-off wor', 'erican S', 'e provis', \"tion's s\", 'sing us ', '  receiv', 'lic.\\n   ', 'SCO work', 'ound the', \"nation's\", 'lined up', ' It cann', ' thousan', 'very emp', 'bitter a', '4.20 dlr', 'k.\\n     ', 'BLAMED F', ' hundred', 's yester', 'ere bitt', ' accept ', 's ... It', 'id the c', 'blamed t', 'has five', ' of busi', ' HASCO\\n ', 'r\\n  two ', 'e of the', 'of three', 'three dl', ' warned ', 'with smu', 'ut the c', 'wed 7.6 ', 'arned pl', ' compete', 'pound, w', ' said.\\n ', 'closed i', ' lowered', 'LAMED FO', \" it's th\", 'g\\n  hund', 'doors ye', 'mployer ', 'onsumer\\n', \"ation's \", 'cane\\n  a', ' the Hai', 'fled Hai', 'de Duval', 'wered co', ' FOR OPE', 'een\\n  mo', 'rnment t', 'eir last', 'ing, HAS', '0,000 to', 'ted that', 'n\\n  mont', 'ears ago', 'd and ev', 'has lowe', 'ling of ', '  Since ', 'flour, r', 'Lucien F', ' minimum', ' widesca', ' local m', 't to con', \"ill's pr\", \"an't com\", 'rk.\\n    ', 'ced\\n  Du', '   At th', 'aid the ', 'order by', 'laude Du', 'und\\n  (4', 'ond larg', 'were bit', 'nican Re', 'r.\\n     ', 'g us to ', 'smugglin', ' pay off', 'ASCO\\n  r', 'ntinue t', 'lrs dail', 'ASCO wor', 'the Hait', 'ut of bu', ' rice, s', 'ier\\n  tw', 'ausing u', 'cturers,', '\" Rigaud', 'provisio', 'erations', 'ar,\" Rig', 'man Geor', ' left to', 'ng at a\\n', ' reselli', \"nt that'\", 'inued th', 'rs ago f', ' 1.5 mln', 'se stock', 'es and r', 'y left t', 'oyees an', 'ter Apri', ' order t', ' of basi', 'h an est', ' policy.', 'yer clos', 'of thous', 'cal manu', 'aid.\\n   ', 't Jean-C', 'ian gove', 'Haiti fo', ' sugar c', 'ix peopl', 'o, wides', 'lrs and ', 'le. Riga', 'ing it h', 'rrowed a', 'orkers.\\n', 'upted se', 'to die,\"', 'nd\\n  the', 'x, 34, w', 'continue', 'edented ', 'acturers', 'sman Geo', ' off wor', 'no money', ' 7.6 mln', '\\n      R', 'he neigh', '    Laid', '\\n  40,00', 'sugar\\n  ', 'ers earl', 'aid HASC', 'n Americ', 'gs of su', 'r to pay', ' governm', 'o money ', '  HASCO ', \"ASCO's c\", 'nds of H', \" mill's \", 'een run ', 'in order', ' fled Ha', 'SCO comp', 'r.\\n  We ', 'd larges', 'sual min', 'east six', 'preceden', ' from\\n  ', 'ecause o', 'ployees ', 'd 7.6 ml', 'ami and ', 'vilian g', 'ness by ', 'e plante', 'state ca', '     \"We', 'ed milk ', 'l minimu', 'r April ', ' around ', 'valier l', ',\\n  and ', 'tock of ', 'ufacture', '  suppor', ' the cap', 'gaud sho', 'r mill w', \"We're de\", 'bags of ', 'market p', 'livery o', 'lix, 34,', 'ths ago,', 'tions,\" ', 'rim-face', 'd,\\n  and', 'regions ', ' stocked', 'n an ord', 'and affe', 'e are cl', 'es D. Ri', 'operatio', 'ad been ', 'o years ', 'ever-gro', 'g smuggl', ' the nei', 'mpound, ', 'above\\n  ', 'use stoc', 'sugar mi', 'ors yest', 'ed consu', 'g\\n  oil,', 'y as 30,', ' sugar s', '   Since', ' America', 'ey left ', 'ive thei', 'out the ', 'ven the ', 'lanters ', 'ed with ', 't replac', 'oods suc', 'argest e', 's of sug', 'eople.\\n ', ' of suga', 'olicy.\\n ', 'up to\\n  ', '     He ', 'local ma', 'r last y', 'porting ', 'n region', 'of the H', ' months ', 'w with a', 'compete\\n', 'rofit an', 'enerally', ' receive', 'dead,\\n  ', 't least ', 'ankrupte', ' began i', 'cy.\\n    ', 'aud show', '     HAS', '\\n      L', 'ependent', '6 mln dl', 'the HASC', 'et price', ' saying ', 'ian Amer', 'al 1.5 m', ' employe', 'ooking\\n ', ' an orde', 'our, ric', 'elivery ', ' causing', 'daily, c', ', Spokes', 'roblems ', ' an esti', ' has fiv', 'alier la', '00 peopl', 'by Duval', 'f basic ', 'er close', 'had borr', ' three d', 'ave no m', 'es but b', 'l local ', \" can't c\", 'n out of', 'SMUGGLIN', 'nimum wo', 'oyer clo', 'merican ', 'ons,\" Ri', 'n dlrs a', 'order to', ' of thre', 'two year', 'tinue op', 'ir last ', '.5 mln d', 'the clos', 'ral loca', ' at a hu', 'econd la', 'kers ear', 'n Sugar ', 'd Haitia', 'NG BLAME', ' showed ', 'aced wor', ' and the', 'eighbour', 'CO worke', 'closure.', 'dle 3,50', ',500 emp', 'ouring D', 'hree dlr', 'Company ', 't of wor', ' 30,000 ', 'ien Feli', ' last ye', ' prices ', 'd severa', ' by suga', 'ss by su', 'ent then', '  nation', 'ng becau', ' mill wa', 'of work.', '00 to\\n  ', ' OF HAIT', 'ich was ', 'ocked wi', 'ter abou', 'nal 1.5 ', 'sing bec', ' no mone', 'ere grim', 'med the ', 'r\\n  at w', 'e usual ', 'ers line', 'e grim-f', 'e have n', 'tocked w', 'stocked ', 's such a', 'ands of ', 'itians o', ' order b', 'urteen\\n ', 'rowing\\n ', 'tian Ame', 'bout the', 'ident Je', 'FOR OPEN', 'mated 44', ' many as', '  with s', 'tinued t', 'The clos', 'cien Fel', 'st year ', 'e\\n  with', 'nters ea', 'ete\\n  wi', 'd from\\n ', 'AN SUGAR', \"and it's\", 'ING BLAM', 'ions aro', 'erally e', ',\" the m', '-Claude ', ') bags o', 'the comp', 'out of w', 'nd, wher', 'ousands ', 'ith an e', 're closi', 'pay off ', 'problems', 'ry-civil', 'fect 280', 'CO\\n  reg', 'rs, thro', ' HAITIAN', 'ar cane\\n', 'ggling o', 'ing even', 'oblems o', ' Felix, ', 'ree dlrs', 'ng of ba', 'cedented', 'und, whe', 'e closur', 'dreds of', 'ued the ', 'th all t', 'dented a', ' us to d', 'n dlrs i', 'd sugar,', ' with an', '\\n  A sug', 'rteen\\n  ', 'ge stock', ' as cook', 'r,\" Riga', 'ms on an', 't then b', 's many a', ',000 sma', 'ed Haiti', 'e. Rigau', 'owed an\\n', 'nprecede', ' D. Riga', ' who has', 'ployer c', 'it had b', 'ince Pre', 'least si', 'N SUGAR ', '0 to 300', 'd\\n  (45-', 'losed it', 'd showed', 'unsold s', ' largest', 'k of uns', 'imated 4', 're. \"We\\'', 'ugar,\" R', ' dlrs in', 'ual mini', 'cept del', '\\n  Miami', 'r fled H', 'r smuggl', ' people.', 'off work', '    \"But', ' the com', ' mill wh', 'the smug', 'ling, HA', 's daily,', 'ice, sug', 'Claude D', 'ying it ', 'overnmen', 'il 10,\" ', 'eft to c', 'hat repl', 'gaud bla', 'hrowing\\n', ' doors y', 'nd canne', 'bove\\n  t', ' compoun', 'nsumer\\n ', 'at least', 'HASCO)\\n ', ' ... It ', 'ane\\n  af', 'siderabl', 'ehouse s', 'ions,\" R', 'was this', 'ay off w', 'hbouring', 'mployees', 'l sugar ', '4, who h', 'd its do', ',000 to\\n', 'ed a\\n  w', ' Dominic', \"HASCO's \", 'l idle 3', 't six pe', ' and res', 'ED FOR O', '0,\" the ', 'gled fro', 'fined su', 'O)\\n  wil', '    He s', 'dlrs and', ' several', 't compet', 'such as ', ',000 uns', ' had bor', 's\\n  nati', 'g HASCO ', 'lian gov', 'ontinued', 'nue to a', 'ling eve', 'idding H', 'rting re', 'ure. \"We', 'blic.\\n  ', 'wing smu', 'ary-civi', 'aitians ', 'cond lar', '   \"But ', '    \"We ', 'gled Dom', 'of unsol', 'n\\n  supp', ' \"But no', 'HASCO fr', 'ing HASC', 'y-civili', 'last pay', ' closing', 'll sugar', 'e stocke', '     The', 'rkers ea', 'fter Apr', 'wed a\\n  ', '  \"Becau', ' problem', ' ago for', '0-pound\\n', ' said HA', 'e dlrs.\\n', 'ican Sug', 'ports at', '  oil, f', 'umer\\n  p', '\\n  the c', 't the cl', '\\n  addit', 'teen\\n  m', 'nufactur', '  (45-kg', 'iami and', 'gions ar', 'ally est', 'HAITIAN ', '   \"Beca', 'ril 10,\"', '5-kg) ba', '\\n  minim', 'k has lo', 'e govern', 'e stock ', ' ever-gr', 'saying i', \"nd it's \", 'rs lined', ' the mil', 'He said ', 'But now ', 'ed that ', 'rned 4.2', 'ced work', 'er fled ', 'ers, thr', 'would af', ', consid', 'CO compo', 'inue ope', 'years ag', 'nsiderab', ' deliver', 'inimum w', 'ompany o', 'nment th', 'ople. Ri', 'neighbou', ' world m', ' with al', 'ng it at', 'e.\\n     ', '\\n  oil, ', ' He said', 'onal 1.5', '40,000 s', '00,000 p', 'd plante', '  the pr', 'age of t', 'rs earli', ' second ', 'ast pay,', ' state c', 'ans out ', 'at a\\n  m', ' closed ', 'r by Duv', ' from re', ' oil, fl', ' daily, ', 'ds of Ha', ' cane pl', 'ivilian ', 'gar Comp', 'said HAS', ' the sta', ' to 300,', '0 small ', 'ably abo', 'ring Dom', 'd-off wo', 'to\\n  40,', 'oyed Hai', ', sugar ', 'd said H', \"n't comp\", 'rs and h', '000 smal', 'ily, con', ' with sm', 'AR FIRM\\n', 'months a', 'g it at ', ' now wit', 'R OPENIN', 'dding HA', ' last pa', 'left to ', 'n refine', '7.6 mln ', 'ng HASCO', 't cannot', ' 300,000', 'A sugar ', 'sed its ', 'wo years', 'id HASCO', 's earned', 'any (HAS', ' milk ha', 'f our hu', 's out of', ' the pol', 'tter abo', 'en\\n  mon', 'ices and', 'ivery of', ' Preside', 'ear cont', 'rupted s', 'RM\\n  A s', 'ons arou', 'ill warn', 'usands o', 'gar cane', 'delivery', ' up to\\n ', 'Rigaud s', 'usual mi', ' would a', ' their l', ', flour,', '   Laid-', 'ale smug', 'orting r', 'from ref', 'dlrs dai', 're grim-', 'eselling', 'sure. \"W', 'employed', 'mpany ow', 'ng\\n  hun', 'e state ', 'lk has l', ' FIRM\\n  ', 'work.\\n  ', 'nd the n', 'itian\\n  ', 'i fourte', 'prices a', 'rges D. ', 'CO)\\n  wi', 'Because ', 'fourteen', 'im-faced', 'd the ca', 'n Felix,', '  The cl', 'er-growi', ' affect ', 'huge pro', 'y, consi', 'an refin', 'll idle ', ', who ha', ' six peo', 'd sugar\\n', 'y.\\n     ', 'ces but ', 'he Haiti', 'll which', ' militar', '  Miami ', '    Riga', '  wareho', 'any owed', ' depende', 'ed sugar', 'ers earn', 'itter ab', 'y employ', 'r huge s', 'loyer cl', 'of sugar', 'ighbouri', 'Haitian\\n', ' A sugar', 'reds of ', 't and\\n  ', 'ive depe', 'employee', ' sugar,\"', \"t's the \", 'ned up t', ' the smu', 'sugar sm', 'hat ever', '  the co', 'e said t', 'supports', 'c.\\n     ', 'generall', 'a\\n  mini', 'OF HAITI', '.6 mln d', 's and re', ' is gene', '\\n      S', 'our huge', ' of the ', 'as lower', 'huge sto', 'bly abov', ' years a', 'Miami an', 'ny (HASC', 'd canned', 'g refine', 'ntinued ', 's earlie', '     Sin', 'ce, suga', 'se of ou', 'Dominica', 'd.\\n     ', 'round th', 'and rese', 'rkers li', 'Spokesma', 'ad,\\n  an', 'loyees a', 'accept d', ' and had', ' been ru', 'nued the', \" nation'\", '. It can', \"e can't \", ' and eve', ' profit ', 'owered c', 'e. \"We\\'r', 'g even t', 'o\\n  40,0', 'eek.\\n   ', 'erably a', 'y, Spoke', 'm\\n  Miam', 'ch as co', 'business', 'i and th', 'n Republ', 'Duvalier', ' has low', 's the go', 'wage of ', 'aiti fou', '\\n  We ha', 'wed an\\n ', 'um wage ', ' but ban', 'the mill', ' idle 3,', 'he smugg', 'ated 445', ' money l', 'rices an', \"on's sec\", '\"We\\'re d', 'muggled ', 't now wi', 'ound\\n  (', '00 emplo', 'is week.', '\\n  at wo', 'to accep', 'rices bu', 'er by Du', '\\n  and i', 'ts ... I', 'which wa', 'ne plant', 'g of bas', 'gling of', 'bouring ', 'ceive th', ' refinin', '     \"Be', ',\\n  the ', 'e Presid', 'run out ', 't the HA', 'pokesman', 'oors yes', 'warned p', 'ly estim', 'ng even ', 'al local', 'an-Claud', '-growing', 'an\\n  add', 'aid-off ', 'ilian go', 'litary-c', 'g) bags ', 'ge of th', ' at leas', 'ted seve', '  \"But n', ' and\\n  t', 'e operat', 'anters e', 'ocal man', 'a\\n  ware', 'closure ', 'ept deli', 'nd resel', '5 mln dl', 'ry of su', 'military', 'growing ', 'f Haitia', 'd blamed', 'affect a', 'd the ne', 'en the s', 'with all', 'owing\\n  ', 'ill idle', 'nue oper', 'un out o', 'osure. \"', 'company ', 'iderably', 'ny as 30', 'rets ...', ')\\n  will', ' continu', 'kesman G', 's second', 'id the g', 'isional ', 'nce Pres', 'workers ', 'e 3,500 ', '100-poun', 'uggled f', ' least s', 'eds of t', ' cooking', '0 people', 'osure of', 'began im', 'ery of s', 's around', 'esterday', 'l 1.5 ml', 'ed plant', 'gar mill', 'ed\\n  Duv', 'd\\n  the ', 'the neig', 'people.\\n', 'ugar smu', \"te can't\", 'ges D. R', 'sugar,\" ', 's causin', ' unsold ', 'krupted ', 'ining su', 'ean-Clau', '      HA', 'nd the c', '   \"We a', '\"We are ', 'employer', 'e smuggl', 'rs yeste', 'd the go', 'eplaced\\n', 'American', 'rld mark', '\\n  regre', 'ers in r', \"ll's pro\", 'n-Claude', 'iness by', ' replace', 'the gove', 'usiness ', 'mpany sa', \"'s secon\", 'l warned', ' owed 7.', 'as many ', 'd, where', ' as many', 'on an or', ' throwin', '0,000 pe', 'e HASCO ', 'lour, ri', 'mpany (H', 's ago, w', 'at repla', 'use of u', ' 10,\" th', 'rs earne', ', throwi', 'ugar.\\n  ', ' SUGAR F', 's and af', 'y of sug', 'hs ago, ', 'mer\\n  pr', 'ing of b', 'cause of', \"that's c\", \"ion's se\", 'At the H', '     It ', 'year con', \"e're dea\", ' to\\n  40', 'Laid-off', 'D FOR OP', 's cookin', 'capital,', 'said the', ' HASCO f', 'an Ameri', '\\n  sayin', 'causing ', \"ate can'\", ' The clo', ' declare', 'is gener', 'it and\\n ', 'nnot con', 'er about', 'ning sug', 'wing\\n  h', 'ed sever', 'g it had', 'that eve', 'it at a ', 'owed a\\n ', 'n import', 'c goods ', 'sands of', 'ut now w', 'its door', 'oil, flo', 'sold 100', ' the gov', 'rder by ', ' goods s', 'uge stoc', 'hen bega', '  Laid-o', 'led Domi', 'ing it a', 'not cont', '      Th', 'mill whi', 'recedent', 'ts doors', 'ees and ', 'have no ', 'O worker', 'd said.\\n', 'stimated', '    HASC', 'r and ca', 'dlrs.\\n  ', 'th an es', 'to conti', 'x people', 'rally es', 'ed\\n  Luc', 'ASCO)\\n  ', 've their', 'he mill ', 'd with a', 'g sugar.', 'ned plan', 's, throw', 'ad borro', 'e of our', 'egan imp', 'ause of ', 'tal,\\n  t'}\n"
     ]
    }
   ],
   "source": [
    "print(frags[\"TOTEST\"])"
   ]
  },
  {
   "cell_type": "markdown",
   "metadata": {},
   "source": [
    "Now we compute the scores for each fragment. To keep things simple, I choose $h$ and $\\ell$ to both be 2, and thus need four scores. This will take a little time to run, 20 seconds or so on my machine. I print out the scores of `TOTEST`. So at this point each document, no matter how long, has be transformed into 4 numbers."
   ]
  },
  {
   "cell_type": "code",
   "execution_count": 30,
   "metadata": {},
   "outputs": [],
   "source": [
    "h=2\n",
    "l=2\n",
    "scores=multipleScoreDict(frags,h*l)"
   ]
  },
  {
   "cell_type": "code",
   "execution_count": 31,
   "metadata": {},
   "outputs": [
    {
     "name": "stdout",
     "output_type": "stream",
     "text": [
      "[741, 1363, 2532, 516]\n"
     ]
    }
   ],
   "source": [
    "print(scores[\"TOTEST\"])"
   ]
  },
  {
   "cell_type": "markdown",
   "metadata": {},
   "source": [
    "Now we build the search structure. In our example with $h$ and $\\ell$ being 2 each, given a query document with scores `[s1, s2, s3, s4]` we want to be able to quickly check if there is a document with scores `[t1 t2 t3 t4]` with ($s_1=t_1$ and $s_2=t_2$) or ($s_3=t_3$ and $s_4=t_4$). Let's focus first on checking if $s_1=t_1$ and $s_2=t_2$. This can be done by having a dictionary, call it $d_1$ where we store the tuple $(t_1,t_2)$ as the key and a list of documents having this $(t_1,t_2)$ as the value. Then to answer the first part of the query we just see if $(q_1,q_2)$ is in $d_1$, which takes constant time. We do the same for each of the $\\ell$ parts, in this case 2, each with a different dictionary.\n",
    "\n",
    "Here is the code to create these dictionaries, note we exclude `TOTEST` as we want to search for it, and not have it stored."
   ]
  },
  {
   "cell_type": "code",
   "execution_count": 32,
   "metadata": {},
   "outputs": [],
   "source": [
    "SearchStructure=[ {} for i in range(l)]\n",
    "for id in data:\n",
    "    if id != \"TOTEST\":\n",
    "        for ll in range(l):\n",
    "            group=tuple(scores[id][ll*h:(ll+1)*h])\n",
    "            if group not in SearchStructure[ll]:\n",
    "                SearchStructure[ll][group]=[]\n",
    "            SearchStructure[ll][group].append(id)\n"
   ]
  },
  {
   "cell_type": "markdown",
   "metadata": {},
   "source": [
    "Now here is the code to perform the tests. This is just one lookup in each of the $\\ell=2$ dictionaries. We search for the `TOTEST` document and with any luck find the original document, the one with \"CLOSURE\" in the title, and no others. (When I run it it works, but there is always a chance of failure....) \n",
    "\n",
    "I compute the Jaquard similarity as well between the \"TOTEST\" document and any that are returned. This is a nice way to double check to see if any false positives are returned, and is cheap if there are not many. (I don't get any)."
   ]
  },
  {
   "cell_type": "code",
   "execution_count": 33,
   "metadata": {},
   "outputs": [
    {
     "name": "stdout",
     "output_type": "stream",
     "text": [
      "{'test/16093'}\n"
     ]
    }
   ],
   "source": [
    "searchResults=set()\n",
    "for ll in range(l):\n",
    "    group=tuple(scores[\"TOTEST\"][ll*h:(ll+1)*h])\n",
    "    if group in SearchStructure[ll]:\n",
    "        searchResults.update(SearchStructure[ll][group])\n",
    "print(searchResults)"
   ]
  },
  {
   "cell_type": "code",
   "execution_count": 34,
   "metadata": {},
   "outputs": [
    {
     "name": "stdout",
     "output_type": "stream",
     "text": [
      "0.9848970251716247\n",
      "SMUGGLING BLAMED FOR CLOSURE OF HAITIAN SUGAR FIRM\n",
      "  A sugar mill which was this\n",
      "  nation's second largest employer closed its doors yesterday,\n",
      "  saying it had been run out of business by sugar smuggled from\n",
      "  Miami and the neighbouring Dominican Republic.\n",
      "      The closure of the Haitian American Sugar Company (HASCO)\n",
      "  will idle 3,500 employees and affect as many as 30,000 to\n",
      "  40,000 small sugar cane planters in regions around the capital,\n",
      "  the company said.\n",
      "      \"Because of unprecedented and ever-growing smuggling, HASCO\n",
      "  regrets ... It cannot continue to accept delivery of sugar cane\n",
      "  after April 10,\" the mill warned planters earlier this week.\n",
      "      Since President Jean-Claude Duvalier fled Haiti fourteen\n",
      "  months ago, widescale smuggling of basic goods such as cooking\n",
      "  oil, flour, rice, sugar and canned milk has lowered consumer\n",
      "  prices but bankrupted several local manufacturers, throwing\n",
      "  hundreds of thousands of Haitians out of work.\n",
      "      At the HASCO compound, where grim-faced workers lined up to\n",
      "  receive their last pay, Spokesman Georges D. Rigaud showed a\n",
      "  warehouse stocked with an estimated 445,000 unsold 100-pound\n",
      "  (45-kg) bags of sugar.\n",
      "      \"We are closing because of our huge stock of unsold sugar.\n",
      "  We have no money left to continue operations,\" Rigaud said.\n",
      "      He said the company owed 7.6 mln dlrs and had borrowed an\n",
      "  additional 1.5 mln dlrs in order to pay off workers.\n",
      "      Rigaud blamed the mill's problems on an order by Duvalier\n",
      "  two years ago forbidding HASCO from refining sugar.\n",
      "      He said the government then began importing refined sugar\n",
      "  at world market prices and reselling it at a huge profit and\n",
      "  the provisional military-civilian government that replaced\n",
      "  Duvalier last year continued the policy.\n",
      "      \"But now with all the smuggling even the state can't compete\n",
      "  with smuggled Dominican refined sugar,\" Rigaud said.\n",
      "      HASCO workers earned 4.20 dlrs daily, considerably above\n",
      "  the usual minimum wage of three dlrs.\n",
      "      It is generally estimated that every employed Haitian\n",
      "  supports at least six people. Rigaud said HASCO's closing at a\n",
      "  minimum would affect 280,000 to 300,000 people.\n",
      "      Laid-off workers were bitter about the closure. \"We're dead,\n",
      "  and it's the government that's causing us to die,\" declared\n",
      "  Lucien Felix, 34, who has five dependents.\n",
      "  \n",
      "\n",
      "\n"
     ]
    }
   ],
   "source": [
    "for result in searchResults:\n",
    "    print(jaquard(fragments(data[result],8),fragments(data[\"TOTEST\"],8)))\n",
    "    print(data[result])"
   ]
  },
  {
   "cell_type": "markdown",
   "metadata": {},
   "source": [
    "How fast was this to query? About time linear in the query document to generate the fragments and score, plus only $O(l)$ for the query itself. In our case $l=2$! \n",
    "\n",
    "Recall before to query $m$ documents would have taken $O(mnd)$ time, where now only $O(m(l+d))$, which in the typical case where $l \\leq d$ is just $O(md)$, which is the time to read in the query documents. This savings of $m$ is the difference between a method which is impractical for large amount of data and one that works quite well."
   ]
  },
  {
   "cell_type": "markdown",
   "metadata": {},
   "source": [
    "# Homework\n",
    "\n",
    "In the last example I included the search string into the data set before the scores were generated. Realistically, however, the flow is usually you do not have the query in advance (and there is usually more than one query). Describe (or better, code!) what changes need to be made if we want to first do all the preprocessing on the data to be searched, and then receive the search strings one at a time. When we receive these search strings we only want to look at a very small amount of the data to be searched.\n"
   ]
  }
 ],
 "metadata": {
  "kernelspec": {
   "display_name": "Python 3",
   "language": "python",
   "name": "python3"
  },
  "language_info": {
   "codemirror_mode": {
    "name": "ipython",
    "version": 3
   },
   "file_extension": ".py",
   "mimetype": "text/x-python",
   "name": "python",
   "nbconvert_exporter": "python",
   "pygments_lexer": "ipython3",
   "version": "3.8.5"
  }
 },
 "nbformat": 4,
 "nbformat_minor": 4
}
